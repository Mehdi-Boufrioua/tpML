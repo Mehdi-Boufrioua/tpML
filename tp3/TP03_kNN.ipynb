{
  "nbformat": 4,
  "nbformat_minor": 0,
  "metadata": {
    "colab": {
      "name": "TP03_kNN.ipynb",
      "provenance": [],
      "collapsed_sections": []
    },
    "kernelspec": {
      "name": "python3",
      "display_name": "Python 3"
    },
    "language_info": {
      "name": "python"
    }
  },
  "cells": [
    {
      "cell_type": "markdown",
      "metadata": {
        "id": "Ua2okujKoOX3"
      },
      "source": [
        "# Les K plus proches voisins & Arbres de décision \n",
        "\n",
        "## Partie I: K plus proches voisins (KNN : k nearest neighbors)"
      ]
    },
    {
      "cell_type": "markdown",
      "metadata": {
        "id": "PRf-PGqvs_mc"
      },
      "source": [
        "##A. Algorithme\n",
        "Le KNN est un algorithme de classification supervisé. Pour chaque entrée $x_{i}=(x^{1}_{i}, x^{1}_{i}, x^{2}_{i}, ... x^{n}_{i}) $ il faut disposer de la sortie $y_{i}$ correspondante (la classe correspondante)\n",
        "\n",
        "Pour savoir à quelle classe $y_{i}$ un vecteur x apartient il faut:\n",
        "- Calculer la distance (euclidienne) du vecteur x à tous les examples $x_{i}$\n",
        "- trouver les k exemple les plus proche de x\n",
        "- x appartient à la classe majoritairement representé par ces k éléments \n",
        "\n",
        "####Q1. utilisez la fonction ***make_blobs(n_samples,centers, cluster_std,random_state)*** du module ***sklearn.datasets*** pour generer trois classes puis visualiser ces trois classe comme suivants:\n",
        "*   rouge: y=0\n",
        "*   blue: y=1\n",
        "*   vert: y=2\n",
        "*   Orange: y=3\n",
        "l'argument ***cluster_std*** affecte le chevauchement entre les classe\n",
        "\n",
        "![image.png](data:image/png;base64,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)"
      ]
    },
    {
      "cell_type": "code",
      "metadata": {
        "id": "JFMpBvmU05jv"
      },
      "source": [
        "\n",
        "\n",
        "\n",
        "\n",
        "\n",
        "\n",
        "\n",
        "\n",
        "\n",
        "\n",
        "\n"
      ],
      "execution_count": null,
      "outputs": []
    },
    {
      "cell_type": "markdown",
      "metadata": {
        "id": "4i9jP33a5YpJ"
      },
      "source": [
        "####Q2. Ecrire une fonction knn(x,X_train,y_train,k) pour predire la classe de x avec l'algorithme du kNN "
      ]
    },
    {
      "cell_type": "code",
      "metadata": {
        "id": "3dWTX-zz76X2"
      },
      "source": [
        "\n",
        "\n",
        "\n",
        "\n",
        "\n",
        "\n",
        "\n",
        "\n",
        "\n",
        "\n",
        "\n",
        "\n",
        "\n"
      ],
      "execution_count": null,
      "outputs": []
    },
    {
      "cell_type": "markdown",
      "metadata": {
        "id": "Fpe5pYjM77Dp"
      },
      "source": [
        "####Q3. A quelle classe apartient les trois points suivants: x1=(-2,5); x2(-1,6) et x3=(0,2) pour k=3,5 et 7 respectivement"
      ]
    },
    {
      "cell_type": "code",
      "metadata": {
        "id": "_RKxW7HH8e6_"
      },
      "source": [
        "\n",
        "\n",
        "\n",
        "\n",
        "\n",
        "\n",
        "\n",
        "\n",
        "\n"
      ],
      "execution_count": null,
      "outputs": []
    },
    {
      "cell_type": "markdown",
      "metadata": {
        "id": "wt87PtzS8yxr"
      },
      "source": [
        "##B. Utilisation des modules python\n",
        "Le module ***KNeighborsClassifier*** de ***sklearn.neighbors*** permet de initialiser un modele kNN avec un parametre k ***KNeighborsClassifier(k)*** en entraine ce modele avce la sa méthode ***fit(x_train,y_train)*** puis la prediction avec sa methode ***predict(x)***\n",
        "####Q1. Utiliser 75% des données precedentes pour entrainer ce modèle puis afficher la matrice de confusion et la precision de ce modèle pour k=1, 3, 5 ... 11\n",
        "Utiliser la méthode accuracy_score(y_test, y_pred) de sklearn.metrics pour calculer la precision (accuracy) du modèle"
      ]
    },
    {
      "cell_type": "code",
      "metadata": {
        "id": "WpYQw6cDAdeJ"
      },
      "source": [
        "\n",
        "\n",
        "\n",
        "\n",
        "\n",
        "\n",
        "\n",
        "\n",
        "\n",
        "\n",
        "\n",
        "\n"
      ],
      "execution_count": null,
      "outputs": []
    },
    {
      "cell_type": "markdown",
      "metadata": {
        "id": "NQ1ifmtOA_Do"
      },
      "source": [
        "####Q2. Trace la precision de ce modele en fonction de k. quel valeur de k choisir pour ce problème?\n",
        "\n"
      ]
    },
    {
      "cell_type": "code",
      "metadata": {
        "id": "RM52WAaBBP2s"
      },
      "source": [
        "\n",
        "\n",
        "\n",
        "\n",
        "\n",
        "\n",
        "\n",
        "\n",
        "\n",
        "\n",
        "\n",
        "\n",
        "\n",
        "\n",
        "\n"
      ],
      "execution_count": null,
      "outputs": []
    }
  ]
}